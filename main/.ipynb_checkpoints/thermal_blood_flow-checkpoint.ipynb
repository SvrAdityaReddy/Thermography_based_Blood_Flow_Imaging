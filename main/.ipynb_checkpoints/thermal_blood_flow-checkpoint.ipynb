{
 "cells": [
  {
   "cell_type": "markdown",
   "metadata": {},
   "source": [
    "## Libraries"
   ]
  },
  {
   "cell_type": "code",
   "execution_count": 1,
   "metadata": {},
   "outputs": [],
   "source": [
    "import cv2\n",
    "import os\n",
    "import numpy as np\n",
    "import readthermal as rd\n",
    "from sklearn.preprocessing import MinMaxScaler"
   ]
  },
  {
   "cell_type": "markdown",
   "metadata": {},
   "source": [
    "##  Reading a Video file and getting Frames (Images) and writing them to System"
   ]
  },
  {
   "cell_type": "code",
   "execution_count": 2,
   "metadata": {},
   "outputs": [],
   "source": [
    "# path='../data/'\n",
    "# input_file_name='ft'\n",
    "# cap=cv2.VideoCapture(path+input_file_name+\".mp4\")\n",
    "# count=0"
   ]
  },
  {
   "cell_type": "code",
   "execution_count": 3,
   "metadata": {},
   "outputs": [],
   "source": [
    "# shape=(0,0,0)\n",
    "# shape_set=False\n",
    "# while(cap.isOpened()):\n",
    "#     ret,frame=cap.read()\n",
    "#     if(not shape_set):\n",
    "#         shape=frame.shape\n",
    "#         shape_set=True\n",
    "#     if(ret==True):\n",
    "#         cv2.imwrite(input_file_name+\"frame_\"+str(count)+\".jpg\",frame)\n",
    "#         count=count+1\n",
    "#     else:\n",
    "#         break\n",
    "# cap.release()\n",
    "# cv2.destroyAllWindows()\n",
    "# print(shape)"
   ]
  },
  {
   "cell_type": "markdown",
   "metadata": {},
   "source": [
    "## Reading Thermal Images stored on the System and Storing them in a numpy Array"
   ]
  },
  {
   "cell_type": "code",
   "execution_count": 4,
   "metadata": {},
   "outputs": [],
   "source": [
    "# np_img=[]\n",
    "\n",
    "# for i in range(0,640):\n",
    "#     np_img.append([])\n",
    "#     for j in range(0,480):\n",
    "#         np_img[i].append([])\n",
    "\n",
    "# np.zeros((640,480,count))\n",
    "\n",
    "# for i in range(0,count):\n",
    "#     img=cv2.imread(\"frame_\"+str(i)+\".jpg\")\n",
    "#     for j in range(0,640):\n",
    "#         for k in range(0,480):\n",
    "#             np_img[j][k].append(img[j][k])\n",
    "\n",
    "# np_img=np.array(np_img, dtype=complex)"
   ]
  },
  {
   "cell_type": "code",
   "execution_count": 5,
   "metadata": {},
   "outputs": [
    {
     "name": "stdout",
     "output_type": "stream",
     "text": [
      "0\n",
      "1\n",
      "2\n",
      "3\n",
      "4\n",
      "5\n",
      "6\n",
      "7\n",
      "8\n",
      "9\n",
      "10\n",
      "11\n"
     ]
    }
   ],
   "source": [
    "shape=(640,480)\n",
    "# print(rd.extract_thermal(\"flir_20181120T213224.jpg\"))\n",
    "np_img=np.zeros((shape[0],shape[1],12), dtype=complex)\n",
    "\n",
    "for i in range(0,12):\n",
    "    img=rd.extract_thermal(\"flir_20181120T2132\"+str(i+24)+\".jpg\")\n",
    "#     print(img.shape)\n",
    "    print(i)\n",
    "#     img=cv2.cvtColor(img, cv2.COLOR_BGR2GRAY)\n",
    "    for j in range(0,shape[0]):\n",
    "        for k in range(0,shape[1]):\n",
    "#             print(img[j][k])\n",
    "            np_img[j][k][i]=img[j][k]"
   ]
  },
  {
   "cell_type": "markdown",
   "metadata": {},
   "source": [
    "## Printing Dimension of numpy Array"
   ]
  },
  {
   "cell_type": "code",
   "execution_count": 6,
   "metadata": {
    "scrolled": true
   },
   "outputs": [
    {
     "name": "stdout",
     "output_type": "stream",
     "text": [
      "(640, 480, 12)\n",
      "[[[27.43601781+0.j 27.47924155+0.j 27.443223  +0.j ... 27.22685239+0.j\n",
      "   27.27016214+0.j 27.19796931+0.j]\n",
      "  [27.43601781+0.j 27.47924155+0.j 27.443223  +0.j ... 27.22685239+0.j\n",
      "   27.27016214+0.j 27.19074729+0.j]\n",
      "  [27.43601781+0.j 27.48644379+0.j 27.43601781+0.j ... 27.22685239+0.j\n",
      "   27.27016214+0.j 27.18352478+0.j]\n",
      "  ...\n",
      "  [27.38556767+0.j 27.50804753+0.j 27.4576319 +0.j ... 27.1401793 +0.j\n",
      "   27.26294509+0.j 27.16907828+0.j]\n",
      "  [27.37835854+0.j 27.50084677+0.j 27.4576319 +0.j ... 27.1401793 +0.j\n",
      "   27.25572754+0.j 27.16185428+0.j]\n",
      "  [27.37114891+0.j 27.50084677+0.j 27.4576319 +0.j ... 27.1401793 +0.j\n",
      "   27.2485095 +0.j 27.15462978+0.j]]\n",
      "\n",
      " [[27.42881213+0.j 27.47924155+0.j 27.443223  +0.j ... 27.22685239+0.j\n",
      "   27.27016214+0.j 27.19796931+0.j]\n",
      "  [27.42881213+0.j 27.47924155+0.j 27.43601781+0.j ... 27.22685239+0.j\n",
      "   27.27016214+0.j 27.19074729+0.j]\n",
      "  [27.42881213+0.j 27.47924155+0.j 27.43601781+0.j ... 27.22685239+0.j\n",
      "   27.27016214+0.j 27.18352478+0.j]\n",
      "  ...\n",
      "  [27.38556767+0.j 27.50804753+0.j 27.4576319 +0.j ... 27.1401793 +0.j\n",
      "   27.26294509+0.j 27.16907828+0.j]\n",
      "  [27.37835854+0.j 27.50084677+0.j 27.4576319 +0.j ... 27.1401793 +0.j\n",
      "   27.25572754+0.j 27.16185428+0.j]\n",
      "  [27.37114891+0.j 27.49364553+0.j 27.4576319 +0.j ... 27.1401793 +0.j\n",
      "   27.2485095 +0.j 27.15462978+0.j]]\n",
      "\n",
      " [[27.42160596+0.j 27.47203883+0.j 27.43601781+0.j ... 27.22685239+0.j\n",
      "   27.27016214+0.j 27.19796931+0.j]\n",
      "  [27.42160596+0.j 27.47924155+0.j 27.43601781+0.j ... 27.22685239+0.j\n",
      "   27.27016214+0.j 27.19074729+0.j]\n",
      "  [27.42160596+0.j 27.47924155+0.j 27.42881213+0.j ... 27.22685239+0.j\n",
      "   27.27016214+0.j 27.18352478+0.j]\n",
      "  ...\n",
      "  [27.38556767+0.j 27.50804753+0.j 27.4576319 +0.j ... 27.1401793 +0.j\n",
      "   27.26294509+0.j 27.16907828+0.j]\n",
      "  [27.37114891+0.j 27.50084677+0.j 27.4576319 +0.j ... 27.1401793 +0.j\n",
      "   27.25572754+0.j 27.16185428+0.j]\n",
      "  [27.37114891+0.j 27.49364553+0.j 27.4576319 +0.j ... 27.1401793 +0.j\n",
      "   27.2485095 +0.j 27.16185428+0.j]]\n",
      "\n",
      " ...\n",
      "\n",
      " [[34.44375848+0.j 34.46402008+0.j 34.45726662+0.j ... 34.4167373 +0.j\n",
      "   34.52478282+0.j 34.42349321+0.j]\n",
      "  [34.44375848+0.j 34.47077312+0.j 34.45726662+0.j ... 34.4167373 +0.j\n",
      "   34.5315322 +0.j 34.43024871+0.j]\n",
      "  [34.44375848+0.j 34.47752576+0.j 34.45726662+0.j ... 34.42349321+0.j\n",
      "   34.53828117+0.j 34.43024871+0.j]\n",
      "  ...\n",
      "  [33.52134133+0.j 33.60303972+0.j 33.58262077+0.j ... 33.4463982 +0.j\n",
      "   33.50090732+0.j 33.3372994 +0.j]\n",
      "  [33.52134133+0.j 33.59623382+0.j 33.59623382+0.j ... 33.45321331+0.j\n",
      "   33.50090732+0.j 33.34412123+0.j]\n",
      "  [33.52134133+0.j 33.59623382+0.j 33.59623382+0.j ... 33.45321331+0.j\n",
      "   33.50090732+0.j 33.34412123+0.j]]\n",
      "\n",
      " [[34.44375848+0.j 34.46402008+0.j 34.45726662+0.j ... 34.40998099+0.j\n",
      "   34.52478282+0.j 34.43024871+0.j]\n",
      "  [34.44375848+0.j 34.47077312+0.j 34.45726662+0.j ... 34.4167373 +0.j\n",
      "   34.5315322 +0.j 34.43024871+0.j]\n",
      "  [34.44375848+0.j 34.47752576+0.j 34.45726662+0.j ... 34.42349321+0.j\n",
      "   34.53828117+0.j 34.43024871+0.j]\n",
      "  ...\n",
      "  [33.52134133+0.j 33.59623382+0.j 33.58262077+0.j ... 33.4463982 +0.j\n",
      "   33.50090732+0.j 33.34412123+0.j]\n",
      "  [33.52134133+0.j 33.59623382+0.j 33.5894275 +0.j ... 33.460028  +0.j\n",
      "   33.50090732+0.j 33.34412123+0.j]\n",
      "  [33.52134133+0.j 33.59623382+0.j 33.59623382+0.j ... 33.460028  +0.j\n",
      "   33.50090732+0.j 33.35094263+0.j]]\n",
      "\n",
      " [[34.44375848+0.j 34.46402008+0.j 34.45726662+0.j ... 34.40998099+0.j\n",
      "   34.52478282+0.j 34.43024871+0.j]\n",
      "  [34.44375848+0.j 34.47077312+0.j 34.45726662+0.j ... 34.4167373 +0.j\n",
      "   34.5315322 +0.j 34.43024871+0.j]\n",
      "  [34.44375848+0.j 34.47752576+0.j 34.45726662+0.j ... 34.42349321+0.j\n",
      "   34.53828117+0.j 34.4370038 +0.j]\n",
      "  ...\n",
      "  [33.52134133+0.j 33.59623382+0.j 33.58262077+0.j ... 33.45321331+0.j\n",
      "   33.50090732+0.j 33.34412123+0.j]\n",
      "  [33.52134133+0.j 33.59623382+0.j 33.5894275 +0.j ... 33.460028  +0.j\n",
      "   33.50090732+0.j 33.34412123+0.j]\n",
      "  [33.52815183+0.j 33.5894275 +0.j 33.59623382+0.j ... 33.460028  +0.j\n",
      "   33.50090732+0.j 33.35094263+0.j]]]\n"
     ]
    }
   ],
   "source": [
    "print(np_img.shape)\n",
    "print(np_img)"
   ]
  },
  {
   "cell_type": "markdown",
   "metadata": {},
   "source": [
    "## Calculation of Phase to multipled to Fourier Coefficients of times series value of same pixel in Thermogram (Thermal Image)"
   ]
  },
  {
   "cell_type": "code",
   "execution_count": 7,
   "metadata": {},
   "outputs": [],
   "source": [
    "z=0.002\n",
    "k=0.33\n",
    "c=3780\n",
    "p=1057\n",
    "X=k/(c*p)\n",
    "f=0.01\n",
    "\n",
    "phase=np.exp(z*np.sqrt(np.pi*f/X)*(1+1j))"
   ]
  },
  {
   "cell_type": "markdown",
   "metadata": {},
   "source": [
    "## Printing Phase"
   ]
  },
  {
   "cell_type": "code",
   "execution_count": 8,
   "metadata": {},
   "outputs": [
    {
     "name": "stdout",
     "output_type": "stream",
     "text": [
      "(1.1362276288627418+3.2396754954446267j)\n"
     ]
    }
   ],
   "source": [
    "print(phase)"
   ]
  },
  {
   "cell_type": "markdown",
   "metadata": {},
   "source": [
    "## Calculation of Blood Flow from pixel values of series of Thermograms"
   ]
  },
  {
   "cell_type": "code",
   "execution_count": 9,
   "metadata": {},
   "outputs": [],
   "source": [
    "for i in range(0,shape[0]):\n",
    "    for j in range(0,shape[1]):\n",
    "        np_img[i][j]=np.fft.fft(np_img[i][j])*phase\n",
    "\n",
    "for i in range(0,shape[0]):\n",
    "    for j in range(0,shape[1]):\n",
    "        np_img[i][j]=np.real(np.fft.ifft(np_img[i][j]))"
   ]
  },
  {
   "cell_type": "markdown",
   "metadata": {},
   "source": [
    "## Printing Blood Flow Values"
   ]
  },
  {
   "cell_type": "code",
   "execution_count": 12,
   "metadata": {},
   "outputs": [
    {
     "name": "stdout",
     "output_type": "stream",
     "text": [
      "(640, 480, 12)\n"
     ]
    }
   ],
   "source": [
    "print(np_img.shape)\n",
    "np_img=np.real(np_img)"
   ]
  },
  {
   "cell_type": "markdown",
   "metadata": {},
   "source": [
    "## Seperation Blood Flow values and Creating Images and Writing to System"
   ]
  },
  {
   "cell_type": "code",
   "execution_count": 16,
   "metadata": {},
   "outputs": [
    {
     "name": "stdout",
     "output_type": "stream",
     "text": [
      "[0.66078486 1.         0.88697471 0.84928931 0.66078486 0.73620213\n",
      " 0.41553586 0.20784648 0.         0.056701   0.3400306  0.09449517]\n"
     ]
    }
   ],
   "source": [
    "# img=[]\n",
    "# frame_array=[]\n",
    "\n",
    "# for i in range(0,count):\n",
    "#     for j in range(0,640):\n",
    "#         img.append([])\n",
    "#         for k in range(0,480):\n",
    "#             img[j].append(np_img[j][k][i])\n",
    "#             print(np_img[j][k][i])\n",
    "#     img=np.uint8(img)\n",
    "#     print(img)\n",
    "#     cv2.imwrite(\"b_frame_\"+str(i)+\".jpg\",img)\n",
    "#     frame_array.append(img)\n",
    "#     img=[]\n",
    "# print(np_img)\n",
    "scaler = MinMaxScaler(feature_range=(0, 1))\n",
    "# l=np_img[1][:,:][1]\n",
    "# print(l.shape)\n",
    "# l=l.reshape(len(l), 1)\n",
    "# scaler = scaler.fit(l)\n",
    "# n = scaler.transform(l)\n",
    "# print(n)\n",
    "\n",
    "normalized_data=[]\n",
    "# print(np_img[0])\n",
    "\n",
    "\n",
    "for j in range(0,shape[0]):\n",
    "    for k in range(0,shape[1]):\n",
    "        l=np_img[j][k]\n",
    "        l=l.reshape(len(l), 1)\n",
    "        scaler = scaler.fit(l)\n",
    "        l=scaler.transform(l)\n",
    "        l=l.reshape(1,len(l))\n",
    "    normalized_data.append(l)\n",
    "\n",
    "# print((normalized_data[0]))"
   ]
  },
  {
   "cell_type": "code",
   "execution_count": 23,
   "metadata": {
    "scrolled": true
   },
   "outputs": [
    {
     "name": "stdout",
     "output_type": "stream",
     "text": [
      "[[0.66078486 1.         0.88697471 0.84928931 0.66078486 0.73620213\n",
      "  0.41553586 0.20784648 0.         0.056701   0.3400306  0.09449517]]\n"
     ]
    }
   ],
   "source": [
    "print((normalized_data[0]))\n",
    "# frame_array=[]\n",
    "\n",
    "# for i in range(0,12):\n",
    "#     img=np.zeros((shape[0],shape[1]))\n",
    "# #     print(img.shape)\n",
    "#     for j in range(0,shape[0]):\n",
    "#         for k in range(0,shape[1]):\n",
    "# #             img[j][k]=normalized_data[j][k][i]\n",
    "#             print(normalized_data[i][j][k])\n",
    "#     img=np.uint8(img)\n",
    "#     img=cv2.applyColorMap(img,cv2.COLORMAP_HSV)\n",
    "#     img=cv2.cvtColor(img, cv2.COLOR_HSV2BGR)\n",
    "#     img=cv2.cvtColor(img, cv2.COLOR_BGR2Luv)\n",
    "#     print(img)\n",
    "#     img=cv2.cvtColor(img, cv2.COLOR_BGR2RGB)\n",
    "#     cv2.imwrite(input_file_name+\"_b_frame_\"+str(i)+\".jpg\",img)\n",
    "#     frame_array.append(img)"
   ]
  },
  {
   "cell_type": "markdown",
   "metadata": {},
   "source": [
    "## Generating Blood Flow Video from Blood Flow Images"
   ]
  },
  {
   "cell_type": "code",
   "execution_count": null,
   "metadata": {},
   "outputs": [],
   "source": [
    "fps=3\n",
    "out=cv2.VideoWriter(\"b_\"+input_file_name+\".avi\",cv2.VideoWriter_fourcc(*'XVID'),fps,(shape[1],shape[0]))\n",
    "\n",
    "for i in range(len(frame_array)):\n",
    "    out.write(frame_array[i])\n",
    "\n",
    "out.release()"
   ]
  },
  {
   "cell_type": "markdown",
   "metadata": {},
   "source": [
    "## Printing length of Frame Array"
   ]
  },
  {
   "cell_type": "code",
   "execution_count": null,
   "metadata": {},
   "outputs": [],
   "source": [
    "print(len(frame_array))"
   ]
  }
 ],
 "metadata": {
  "kernelspec": {
   "display_name": "Python 3",
   "language": "python",
   "name": "python3"
  },
  "language_info": {
   "codemirror_mode": {
    "name": "ipython",
    "version": 3
   },
   "file_extension": ".py",
   "mimetype": "text/x-python",
   "name": "python",
   "nbconvert_exporter": "python",
   "pygments_lexer": "ipython3",
   "version": "3.6.6"
  }
 },
 "nbformat": 4,
 "nbformat_minor": 2
}
