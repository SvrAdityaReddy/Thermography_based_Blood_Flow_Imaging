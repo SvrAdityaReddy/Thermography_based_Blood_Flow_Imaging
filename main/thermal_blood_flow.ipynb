{
 "cells": [
  {
   "cell_type": "markdown",
   "metadata": {},
   "source": [
    "## Libraries"
   ]
  },
  {
   "cell_type": "code",
   "execution_count": 1,
   "metadata": {},
   "outputs": [],
   "source": [
    "import cv2\n",
    "import os\n",
    "import numpy as np\n",
    "import readthermal as rd\n",
    "from sklearn.preprocessing import MinMaxScaler\n",
    "from matplotlib import pyplot as plt\n",
    "from matplotlib.cm import get_cmap"
   ]
  },
  {
   "cell_type": "markdown",
   "metadata": {},
   "source": [
    "##  Reading a Video file and getting Frames (Images) and writing them to System"
   ]
  },
  {
   "cell_type": "code",
   "execution_count": 2,
   "metadata": {},
   "outputs": [],
   "source": [
    "# path='../data/'\n",
    "# input_file_name='ft'\n",
    "# cap=cv2.VideoCapture(path+input_file_name+\".mp4\")\n",
    "# count=0"
   ]
  },
  {
   "cell_type": "code",
   "execution_count": 3,
   "metadata": {},
   "outputs": [],
   "source": [
    "# shape=(0,0,0)\n",
    "# shape_set=False\n",
    "# while(cap.isOpened()):\n",
    "#     ret,frame=cap.read()\n",
    "#     if(not shape_set):\n",
    "#         shape=frame.shape\n",
    "#         shape_set=True\n",
    "#     if(ret==True):\n",
    "#         cv2.imwrite(input_file_name+\"frame_\"+str(count)+\".jpg\",frame)\n",
    "#         count=count+1\n",
    "#     else:\n",
    "#         break\n",
    "# cap.release()\n",
    "# cv2.destroyAllWindows()\n",
    "# print(shape)"
   ]
  },
  {
   "cell_type": "markdown",
   "metadata": {},
   "source": [
    "## Reading Thermal Images stored on the System and Storing them in a numpy Array"
   ]
  },
  {
   "cell_type": "code",
   "execution_count": 4,
   "metadata": {},
   "outputs": [],
   "source": [
    "# np_img=[]\n",
    "\n",
    "# for i in range(0,640):\n",
    "#     np_img.append([])\n",
    "#     for j in range(0,480):\n",
    "#         np_img[i].append([])\n",
    "\n",
    "# np.zeros((640,480,count))\n",
    "\n",
    "# for i in range(0,count):\n",
    "#     img=cv2.imread(\"frame_\"+str(i)+\".jpg\")\n",
    "#     for j in range(0,640):\n",
    "#         for k in range(0,480):\n",
    "#             np_img[j][k].append(img[j][k])\n",
    "\n",
    "# np_img=np.array(np_img, dtype=complex)"
   ]
  },
  {
   "cell_type": "code",
   "execution_count": 8,
   "metadata": {},
   "outputs": [],
   "source": [
    "# shape=(480,640)\n",
    "shape=(640,480)\n",
    "count=91\n",
    "\n",
    "np_img=np.zeros((shape[0],shape[1],count), dtype=complex)\n",
    "# print(np_img.shape)\n",
    "\n",
    "for i in range(1,count+1):\n",
    "    img=rd.extract_thermal(str(i)+\".jpg\")\n",
    "#     print(img.shape)\n",
    "#     break\n",
    "    for j in range(0,shape[0]):\n",
    "        for k in range(0,shape[1]):\n",
    "            np_img[j][k][i-1]=img[j][k]"
   ]
  },
  {
   "cell_type": "markdown",
   "metadata": {},
   "source": [
    "## Printing Dimension of numpy Array"
   ]
  },
  {
   "cell_type": "code",
   "execution_count": 9,
   "metadata": {
    "scrolled": true
   },
   "outputs": [
    {
     "name": "stdout",
     "output_type": "stream",
     "text": [
      "(640, 480, 91)\n"
     ]
    }
   ],
   "source": [
    "print(np_img.shape)\n",
    "# print(np_img)"
   ]
  },
  {
   "cell_type": "markdown",
   "metadata": {},
   "source": [
    "## Calculation of Phase to multipled to Fourier Coefficients of times series value of same pixel in Thermogram (Thermal Image)"
   ]
  },
  {
   "cell_type": "code",
   "execution_count": 10,
   "metadata": {},
   "outputs": [],
   "source": [
    "z=0.002\n",
    "k=0.33\n",
    "c=3780\n",
    "p=1057\n",
    "X=k/(c*p)\n",
    "f=0.01\n",
    "\n",
    "phase=np.exp(z*np.sqrt(np.pi*f/X)*(1+1j))"
   ]
  },
  {
   "cell_type": "markdown",
   "metadata": {},
   "source": [
    "## Printing Phase"
   ]
  },
  {
   "cell_type": "code",
   "execution_count": 11,
   "metadata": {},
   "outputs": [
    {
     "name": "stdout",
     "output_type": "stream",
     "text": [
      "(1.1362276288627418+3.2396754954446267j)\n"
     ]
    }
   ],
   "source": [
    "print(phase)"
   ]
  },
  {
   "cell_type": "markdown",
   "metadata": {},
   "source": [
    "## Calculation of Blood Flow from pixel values of series of Thermograms"
   ]
  },
  {
   "cell_type": "code",
   "execution_count": 12,
   "metadata": {},
   "outputs": [],
   "source": [
    "for i in range(0,shape[0]):\n",
    "    for j in range(0,shape[1]):\n",
    "        np_img[i][j]=np.fft.fft(np_img[i][j])*phase\n",
    "\n",
    "for i in range(0,shape[0]):\n",
    "    for j in range(0,shape[1]):\n",
    "        np_img[i][j]=np.real(np.fft.ifft(np_img[i][j]))"
   ]
  },
  {
   "cell_type": "markdown",
   "metadata": {},
   "source": [
    "## Printing Blood Flow Values"
   ]
  },
  {
   "cell_type": "code",
   "execution_count": 13,
   "metadata": {},
   "outputs": [
    {
     "name": "stdout",
     "output_type": "stream",
     "text": [
      "(640, 480, 91)\n"
     ]
    }
   ],
   "source": [
    "print(np_img.shape)\n",
    "np_img=np.real(np_img)\n",
    "# print(np_img)"
   ]
  },
  {
   "cell_type": "markdown",
   "metadata": {},
   "source": [
    "## Seperation Blood Flow values and Creating Images and Writing to System"
   ]
  },
  {
   "cell_type": "code",
   "execution_count": 14,
   "metadata": {},
   "outputs": [],
   "source": [
    "\n",
    "# scaler = MinMaxScaler(feature_range=(0, 1))\n",
    "\n",
    "# normalized_data=np.zeros((shape[0],shape[1],count), dtype=float)\n",
    "\n",
    "# for j in range(0,shape[0]):\n",
    "#     for k in range(0,shape[1]):\n",
    "#         l=np_img[j][k]\n",
    "#         l=l.reshape(len(l), 1)\n",
    "#         scaler = scaler.fit(l)\n",
    "#         l=scaler.transform(l)\n",
    "#         l=l.reshape(1,len(l))\n",
    "#         normalized_data[j][k]=l\n"
   ]
  },
  {
   "cell_type": "code",
   "execution_count": 15,
   "metadata": {
    "scrolled": true
   },
   "outputs": [
    {
     "data": {
      "image/png": "[encoded data removed]",
      "text/plain": [
       "<Figure size 432x288 with 1 Axes>"
      ]
     },
     "metadata": {
      "needs_background": "light"
     },
     "output_type": "display_data"
    }
   ],
   "source": [
    "cmap = get_cmap('nipy_spectral')\n",
    "\n",
    "frame_array=[]\n",
    "\n",
    "for i in range(0,count):\n",
    "    img=np.zeros((shape[0],shape[1]))\n",
    "    for j in range(0,shape[0]):\n",
    "        for k in range(0,shape[1]):\n",
    "            img[j][k]=np_img[j][k][i]\n",
    "#     col_sums = img.sum(axis=0)\n",
    "#     new_matrix = img / col_sums[np.newaxis,:absolute]\n",
    "    img=img/np.amax(img)\n",
    "    im = plt.imshow(img,cmap=cmap) \n",
    "    plt.savefig(\"out\"+str(i)+\".jpg\")\n",
    "    frame_array.append(img)"
   ]
  },
  {
   "cell_type": "markdown",
   "metadata": {},
   "source": [
    "## Generating Blood Flow Video from Blood Flow Images"
   ]
  },
  {
   "cell_type": "code",
   "execution_count": 16,
   "metadata": {},
   "outputs": [],
   "source": [
    "fps=2\n",
    "out=cv2.VideoWriter(\"a_bldf\"+\".avi\",cv2.VideoWriter_fourcc(*'XVID'),fps,(432,288))\n",
    "\n",
    "for i in range(count):\n",
    "    img=cv2.imread(\"out\"+str(i)+\".jpg\")\n",
    "    out.write(img)\n",
    "\n",
    "out.release()"
   ]
  },
  {
   "cell_type": "markdown",
   "metadata": {},
   "source": [
    "## Printing length of Frame Array"
   ]
  },
  {
   "cell_type": "code",
   "execution_count": 17,
   "metadata": {},
   "outputs": [
    {
     "name": "stdout",
     "output_type": "stream",
     "text": [
      "91\n"
     ]
    }
   ],
   "source": [
    "print(len(frame_array))"
   ]
  }
 ],
 "metadata": {
  "kernelspec": {
   "display_name": "Python 3",
   "language": "python",
   "name": "python3"
  },
  "language_info": {
   "codemirror_mode": {
    "name": "ipython",
    "version": 3
   },
   "file_extension": ".py",
   "mimetype": "text/x-python",
   "name": "python",
   "nbconvert_exporter": "python",
   "pygments_lexer": "ipython3",
   "version": "3.6.6"
  }
 },
 "nbformat": 4,
 "nbformat_minor": 2
}
